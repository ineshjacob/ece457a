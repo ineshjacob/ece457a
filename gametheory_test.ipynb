{
 "cells": [
  {
   "cell_type": "code",
   "execution_count": 20,
   "metadata": {},
   "outputs": [],
   "source": [
    "import numpy as np\n",
    "from nashpy import Game"
   ]
  },
  {
   "cell_type": "code",
   "execution_count": 13,
   "metadata": {},
   "outputs": [],
   "source": [
    "def find_dominant_strategy(payoff_matrices):\n",
    "    dem_m=np.array(payoff_matrices[0])\n",
    "    rep_m=np.array(payoff_matrices[1])\n",
    "    rows=list(range(3))\n",
    "    cols=list(range(3))\n",
    "    no_next_move=False\n",
    "    while not no_next_move and (len(rows)>1 or len(cols)>1):\n",
    "        stop=False\n",
    "        for i in rows:\n",
    "            for ii in rows:\n",
    "                if i!=ii and not stop:\n",
    "                    row1=dem_m[i,cols]\n",
    "                    row2=dem_m[ii,cols]\n",
    "                    if np.all(row1>row2):\n",
    "                        rows.remove(ii)\n",
    "                        stop=True\n",
    "        if not stop:\n",
    "            for i in cols:\n",
    "                for ii in cols:\n",
    "                    if i!=ii and not stop:\n",
    "                        col1=rep_m[rows,i]\n",
    "                        col2=rep_m[rows,ii]\n",
    "                        if np.all(col1>col2):\n",
    "                            cols.remove(ii)\n",
    "                            stop=True\n",
    "        if not stop:\n",
    "            no_next_move=True\n",
    "    if len(rows)==1 and len(cols)==1:\n",
    "        return rows[0],cols[0]\n",
    "    else:\n",
    "        return None"
   ]
  },
  {
   "cell_type": "code",
   "execution_count": 25,
   "metadata": {},
   "outputs": [],
   "source": [
    "dem=[[13,1,7],[4,3,6],[-1,2,8]]\n",
    "rep=[[3,4,3],[1,3,2],[9,8,-1]]\n",
    "payoffs=[dem,rep]"
   ]
  },
  {
   "cell_type": "code",
   "execution_count": 18,
   "metadata": {},
   "outputs": [
    {
     "data": {
      "text/plain": [
       "(1, 1)"
      ]
     },
     "execution_count": 18,
     "metadata": {},
     "output_type": "execute_result"
    }
   ],
   "source": [
    "find_dominant_strategy(payoffs)"
   ]
  },
  {
   "cell_type": "code",
   "execution_count": 28,
   "metadata": {},
   "outputs": [],
   "source": [
    "def calculate_nash_equilibrium(payoff_matrices):\n",
    "    game = Game(payoff_matrices[0], payoff_matrices[1])\n",
    "    equilibria = game.support_enumeration()\n",
    "    return list(equilibria)"
   ]
  },
  {
   "cell_type": "code",
   "execution_count": 37,
   "metadata": {},
   "outputs": [
    {
     "data": {
      "text/plain": [
       "[(array([0.5, 0.5]), array([0.57142857, 0.42857143]))]"
      ]
     },
     "execution_count": 37,
     "metadata": {},
     "output_type": "execute_result"
    }
   ],
   "source": [
    "calculate_nash_equilibrium([[[5,6],[8,2]],[[5,4],[7,8]]])"
   ]
  },
  {
   "cell_type": "code",
   "execution_count": 41,
   "metadata": {},
   "outputs": [],
   "source": [
    "with open('output.txt', 'a') as f:\n",
    "        f.write('hello')\n",
    "        f.write('world')"
   ]
  }
 ],
 "metadata": {
  "kernelspec": {
   "display_name": "Python 3",
   "language": "python",
   "name": "python3"
  },
  "language_info": {
   "codemirror_mode": {
    "name": "ipython",
    "version": 3
   },
   "file_extension": ".py",
   "mimetype": "text/x-python",
   "name": "python",
   "nbconvert_exporter": "python",
   "pygments_lexer": "ipython3",
   "version": "3.10.4"
  }
 },
 "nbformat": 4,
 "nbformat_minor": 2
}
